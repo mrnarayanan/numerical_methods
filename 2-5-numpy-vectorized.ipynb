{
  "cells": [
    {
      "cell_type": "code",
      "execution_count": 1,
      "metadata": {
        "collapsed": true
      },
      "outputs": [],
      "source": [
        "import numpy as np"
      ]
    },
    {
      "cell_type": "code",
      "execution_count": 2,
      "metadata": {
        "collapsed": true
      },
      "outputs": [],
      "source": [
        "def func1(u, v, w):\n",
        "    n = len(u)\n",
        "    for i in range(n):\n",
        "        w[i] = u[i] + 15.2 * v[i]\n",
        "    \n",
        "def func2(u, v, w):\n",
        "    w = u + 15.2 * v\n"
      ]
    },
    {
      "cell_type": "code",
      "execution_count": 3,
      "metadata": {},
      "outputs": [
        {
          "name": "stdout",
          "output_type": "stream",
          "text": [
            "3.87 s \u00b1 153 ms per loop (mean \u00b1 std. dev. of 7 runs, 1 loop each)\n",
            "31.4 ms \u00b1 584 \u00b5s per loop (mean \u00b1 std. dev. of 7 runs, 10 loops each)\n"
          ]
        }
      ],
      "source": [
        "n = 10**7\n",
        "u = np.random.rand(n)\n",
        "v = np.random.rand(n)\n",
        "w = np.zeros(n)\n",
        "\n",
        "\n",
        "%timeit func1(u,v,w)\n",
        "%timeit func2(u,v,w)"
      ]
    }
  ],
  "metadata": {
    "kernelspec": {
      "display_name": "Python 3",
      "language": "python",
      "name": "python3"
    },
    "language_info": {
      "codemirror_mode": {
        "name": "ipython",
        "version": 3
      },
      "file_extension": ".py",
      "mimetype": "text/x-python",
      "name": "python",
      "nbconvert_exporter": "python",
      "pygments_lexer": "ipython3",
      "version": "3.6.3"
    }
  },
  "nbformat": 4,
  "nbformat_minor": 2
}