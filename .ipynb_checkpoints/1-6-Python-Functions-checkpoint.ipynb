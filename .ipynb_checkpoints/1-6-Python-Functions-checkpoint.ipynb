{
 "cells": [
  {
   "cell_type": "markdown",
   "metadata": {},
   "source": [
    "# Python Introduction: Functions"
   ]
  },
  {
   "cell_type": "markdown",
   "metadata": {},
   "source": [
    "Functions help extract out common code blocks.\n",
    "\n",
    "Let's define a function `print_greeting()`."
   ]
  },
  {
   "cell_type": "code",
   "execution_count": 2,
   "metadata": {},
   "outputs": [
    {
     "name": "stdout",
     "output_type": "stream",
     "text": [
      "range(0, 10)\n"
     ]
    }
   ],
   "source": [
    "print(range(0,10))"
   ]
  },
  {
   "cell_type": "code",
   "execution_count": 3,
   "metadata": {},
   "outputs": [],
   "source": [
    "def print_greeting():\n",
    "    print(\"Hi there, how are you?\")\n",
    "    print(\"Long time no see.\")"
   ]
  },
  {
   "cell_type": "markdown",
   "metadata": {},
   "source": [
    "And call it:"
   ]
  },
  {
   "cell_type": "code",
   "execution_count": 4,
   "metadata": {},
   "outputs": [
    {
     "name": "stdout",
     "output_type": "stream",
     "text": [
      "Hi there, how are you?\n",
      "Long time no see.\n"
     ]
    }
   ],
   "source": [
    "print_greeting()"
   ]
  },
  {
   "cell_type": "markdown",
   "metadata": {},
   "source": [
    "That's a bit impersonal."
   ]
  },
  {
   "cell_type": "code",
   "execution_count": 5,
   "metadata": {},
   "outputs": [],
   "source": [
    "def print_greeting(name):\n",
    "\n",
    "    print(\"Hi there, {0}, how are you?\".format(name))\n",
    "\n",
    "    print(\"Long time no see.\")"
   ]
  },
  {
   "cell_type": "code",
   "execution_count": 6,
   "metadata": {},
   "outputs": [
    {
     "name": "stdout",
     "output_type": "stream",
     "text": [
      "Hi there, Andreas, how are you?\n",
      "Long time no see.\n"
     ]
    }
   ],
   "source": [
    "print_greeting(\"Andreas\")"
   ]
  },
  {
   "cell_type": "markdown",
   "metadata": {},
   "source": [
    "But we might not know their name. So we can set a default value for parameters.\n",
    "\n",
    "(And we just changed the interface of `print_greeting`!)"
   ]
  },
  {
   "cell_type": "code",
   "execution_count": 8,
   "metadata": {},
   "outputs": [],
   "source": [
    "def print_greeting(name=\"my friend\"):\n",
    "\n",
    "    print(\"Hi there, {0}, how are you?\".format(name))\n",
    "\n",
    "    print(\"Long time no see.\")"
   ]
  },
  {
   "cell_type": "code",
   "execution_count": 9,
   "metadata": {},
   "outputs": [
    {
     "name": "stdout",
     "output_type": "stream",
     "text": [
      "Hi there, Andreas, how are you?\n",
      "Long time no see.\n",
      "Hi there, my friend, how are you?\n",
      "Long time no see.\n"
     ]
    }
   ],
   "source": [
    "print_greeting(\"Andreas\")\n",
    "print_greeting()"
   ]
  },
  {
   "cell_type": "markdown",
   "metadata": {},
   "source": [
    "Note that the order of the parameters does not matter"
   ]
  },
  {
   "cell_type": "code",
   "execution_count": 12,
   "metadata": {},
   "outputs": [
    {
     "name": "stdout",
     "output_type": "stream",
     "text": [
      "Name:  Julia\n",
      "Age:  8\n"
     ]
    }
   ],
   "source": [
    "def printinfo( name , age ):\n",
    "    print(\"Name: \", name)\n",
    "    print(\"Age: \", age)\n",
    "\n",
    "\n",
    "# Now you can call printinfo function\n",
    "printinfo( age=8, name=\"Julia\" )"
   ]
  },
  {
   "cell_type": "markdown",
   "metadata": {},
   "source": [
    "However the parameters \"age\" and \"name\" are both required above. What if we want to have optional parameters (without setting default values)?"
   ]
  },
  {
   "cell_type": "code",
   "execution_count": 13,
   "metadata": {},
   "outputs": [
    {
     "name": "stdout",
     "output_type": "stream",
     "text": [
      "First parameter: 10\n",
      "List of other parameters:\n",
      "20\n",
      "30\n"
     ]
    }
   ],
   "source": [
    "def printinfo( firstvar , *othervar ):\n",
    "    print(\"First parameter:\", firstvar)\n",
    "    print(\"List of other parameters:\")\n",
    "    for var in othervar:\n",
    "        print(var)\n",
    "\n",
    "# Now you can call printinfo function\n",
    "printinfo(10,20,30)\n"
   ]
  },
  {
   "cell_type": "markdown",
   "metadata": {},
   "source": [
    "A function can also return more than one parameter, and the results appear as a tuple:"
   ]
  },
  {
   "cell_type": "code",
   "execution_count": 14,
   "metadata": {},
   "outputs": [
    {
     "data": {
      "text/plain": [
       "(2.5, 5)"
      ]
     },
     "execution_count": 14,
     "metadata": {},
     "output_type": "execute_result"
    }
   ],
   "source": [
    "def average_total(a,b):\n",
    "    totalsum = a + b\n",
    "    average = totalsum/2\n",
    "    return average,totalsum\n",
    "\n",
    "average_total(2,3)"
   ]
  },
  {
   "cell_type": "markdown",
   "metadata": {},
   "source": [
    "# Remember mutable and immutable types..."
   ]
  },
  {
   "cell_type": "markdown",
   "metadata": {},
   "source": [
    "Function parameters work like variables. So what does this do?"
   ]
  },
  {
   "cell_type": "code",
   "execution_count": 1,
   "metadata": {},
   "outputs": [
    {
     "name": "stdout",
     "output_type": "stream",
     "text": [
      "List before function call:  [1, 2, 3]\n",
      "List printed inside the function:  [1, 2, 3, 5]\n",
      "List after function call:  [1, 2, 3, 5]\n"
     ]
    }
   ],
   "source": [
    "def my_func(my_list):\n",
    "    my_list.append(5)\n",
    "    print(\"List printed inside the function: \",my_list)\n",
    "    \n",
    "numberlist = [1,2,3]\n",
    "print(\"List before function call: \",numberlist)\n",
    "my_func(numberlist)\n",
    "print(\"List after function call: \",numberlist)"
   ]
  },
  {
   "cell_type": "markdown",
   "metadata": {},
   "source": [
    "Can be very surprising! Here, we are maintaining reference of the passed object and appending values in the same object.\n",
    "\n",
    "Define a better function `my_func_2`:"
   ]
  },
  {
   "cell_type": "code",
   "execution_count": 2,
   "metadata": {},
   "outputs": [
    {
     "name": "stdout",
     "output_type": "stream",
     "text": [
      "List before function call:  [1, 2, 3]\n",
      "List printed inside the function:  [1, 2, 3, 5]\n",
      "List after function call:  [1, 2, 3]\n",
      "Modified list after function call:  [1, 2, 3, 5]\n"
     ]
    }
   ],
   "source": [
    "def my_func_2(my_list):\n",
    "    \n",
    "    my_list = my_list + [5]\n",
    "    print(\"List printed inside the function: \",my_list)\n",
    "\n",
    "    return my_list\n",
    "\n",
    "\n",
    "numberlist = [1,2,3]\n",
    "print(\"List before function call: \",numberlist)\n",
    "new_list = my_func_2(numberlist)\n",
    "#inside the function my_list = [1,2,3,5]\n",
    "print(\"List after function call: \",numberlist)\n",
    "print(\"Modified list after function call: \",new_list)"
   ]
  },
  {
   "cell_type": "markdown",
   "metadata": {},
   "source": [
    "Note that the parameter my_list is local to the function. "
   ]
  },
  {
   "cell_type": "code",
   "execution_count": 3,
   "metadata": {},
   "outputs": [],
   "source": [
    "def change_fruits(fruit):\n",
    "    fruit='apple'\n",
    "    print(\"I'm changing the fruit to %s\" % fruit)"
   ]
  },
  {
   "cell_type": "code",
   "execution_count": 4,
   "metadata": {},
   "outputs": [
    {
     "name": "stdout",
     "output_type": "stream",
     "text": [
      "I'm changing the fruit to apple\n",
      "The fruit is banana \n"
     ]
    }
   ],
   "source": [
    "myfruit = 'banana'\n",
    "change_fruits(myfruit)\n",
    "print(\"The fruit is %s \" % myfruit)"
   ]
  },
  {
   "cell_type": "markdown",
   "metadata": {},
   "source": [
    "**What happened?!** Remember that the input, `fruit` to `change_fruits` is bound to an object within the scope of the function:\n",
    "  * If the object is mutable, the object will change\n",
    "  * If the object is immutable (like a string!), then a new object is formed, only to live within the function scope."
   ]
  },
  {
   "cell_type": "markdown",
   "metadata": {},
   "source": [
    "# Iclicker question:"
   ]
  },
  {
   "cell_type": "code",
   "execution_count": null,
   "metadata": {},
   "outputs": [],
   "source": []
  }
 ],
 "metadata": {
  "kernelspec": {
   "display_name": "Python 3",
   "language": "python",
   "name": "python3"
  },
  "language_info": {
   "codemirror_mode": {
    "name": "ipython",
    "version": 3
   },
   "file_extension": ".py",
   "mimetype": "text/x-python",
   "name": "python",
   "nbconvert_exporter": "python",
   "pygments_lexer": "ipython3",
   "version": "3.6.5"
  }
 },
 "nbformat": 4,
 "nbformat_minor": 1
}
