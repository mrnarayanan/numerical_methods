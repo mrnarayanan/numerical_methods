{
  "cells": [
    {
      "cell_type": "markdown",
      "metadata": {},
      "source": [
        "# Objects in Python"
      ]
    },
    {
      "cell_type": "markdown",
      "metadata": {},
      "source": [
        "Everything in Python is an 'object'.\n",
        "\n",
        "Defining custom types of objects is easy:"
      ]
    },
    {
      "cell_type": "code",
      "execution_count": 1,
      "metadata": {
        "collapsed": true
      },
      "outputs": [],
      "source": [
        "class Employee:\n",
        "    empCount = 0\n",
        "    \n",
        "    def __init__(self, name, salary):\n",
        "        self.name = name\n",
        "        self.salary = salary\n",
        "        Employee.empCount += 1\n",
        "        \n",
        "    def fire(self):\n",
        "        self.salary = 0\n",
        "        Employee.empCount -= 1\n",
        "        "
      ]
    },
    {
      "cell_type": "markdown",
      "metadata": {},
      "source": [
        "* `empCount` is a class variable, and can be accessed inside and outside of the class as `Employee.empCount`\n",
        "\n",
        "* Functions within the class (type) definition are called 'methods'.\n",
        "\n",
        "* The first method `__init__` is a special method (called the class 'constructor' or initialization method.\n",
        "\n",
        "* You define class methods like normal functions, except that the first argument to each method is the explicit `self` parameter.\n",
        "\n",
        "    * Objects are created by 'calling' the type like a function.\n",
        "    * Arguments in this call are passed to the constructor"
      ]
    },
    {
      "cell_type": "code",
      "execution_count": 2,
      "metadata": {},
      "outputs": [
        {
          "name": "stdout",
          "output_type": "stream",
          "text": [
            "Employee name is  Joe\n",
            "Joe salary is $ 100000\n"
          ]
        }
      ],
      "source": [
        "# This creates the first employee Joe\n",
        "joe = Employee(\"Joe\",100000)\n",
        "print('Employee name is ',joe.name)\n",
        "print(joe.name, 'salary is $', joe.salary)"
      ]
    },
    {
      "cell_type": "code",
      "execution_count": 3,
      "metadata": {},
      "outputs": [
        {
          "name": "stdout",
          "output_type": "stream",
          "text": [
            "Employee name is  Marc\n",
            "Marc salary is $ 120000\n"
          ]
        }
      ],
      "source": [
        "# This will create the second employee Marc\n",
        "marc = Employee(\"Marc\",120000)\n",
        "print('Employee name is ',marc.name)\n",
        "print(marc.name, 'salary is $', marc.salary)"
      ]
    },
    {
      "cell_type": "code",
      "execution_count": 4,
      "metadata": {},
      "outputs": [
        {
          "name": "stdout",
          "output_type": "stream",
          "text": [
            "Total employee number =  2\n"
          ]
        }
      ],
      "source": [
        "print(\"Total employee number = \",Employee.empCount)"
      ]
    },
    {
      "cell_type": "markdown",
      "metadata": {},
      "source": [
        "We can add, remove and modify attributes at any time:"
      ]
    },
    {
      "cell_type": "code",
      "execution_count": 5,
      "metadata": {},
      "outputs": [
        {
          "name": "stdout",
          "output_type": "stream",
          "text": [
            "Employee name is  Joe\n",
            "Joe salary is $ 110000\n",
            "Joe age is 28\n"
          ]
        }
      ],
      "source": [
        "joe.age = 28\n",
        "joe.salary = 110000\n",
        "\n",
        "print('Employee name is ',joe.name)\n",
        "print(joe.name, 'salary is $', joe.salary)\n",
        "print(joe.name, 'age is', joe.age)"
      ]
    },
    {
      "cell_type": "markdown",
      "metadata": {},
      "source": [
        "Let's fire Joe."
      ]
    },
    {
      "cell_type": "code",
      "execution_count": 6,
      "metadata": {
        "collapsed": true
      },
      "outputs": [],
      "source": [
        "joe.fire()"
      ]
    },
    {
      "cell_type": "code",
      "execution_count": 7,
      "metadata": {},
      "outputs": [
        {
          "data": {
            "text/plain": [
              "0"
            ]
          },
          "execution_count": 7,
          "metadata": {},
          "output_type": "execute_result"
        }
      ],
      "source": [
        "joe.salary"
      ]
    },
    {
      "cell_type": "code",
      "execution_count": 8,
      "metadata": {},
      "outputs": [
        {
          "name": "stdout",
          "output_type": "stream",
          "text": [
            "Total employee number =  1\n"
          ]
        }
      ],
      "source": [
        "print(\"Total employee number = \",Employee.empCount)"
      ]
    },
    {
      "cell_type": "markdown",
      "metadata": {},
      "source": [
        "## iclicker question"
      ]
    },
    {
      "cell_type": "markdown",
      "metadata": {},
      "source": [
        "What is the output of the following code snippet?"
      ]
    },
    {
      "cell_type": "code",
      "execution_count": 9,
      "metadata": {},
      "outputs": [],
      "source": []
    },
    {
      "cell_type": "markdown",
      "metadata": {},
      "source": [
        "\n",
        "* a) Error message, because the function Change can't be called in the `__init__` function\n",
        "\n",
        "* b) 'Old'\n",
        "\n",
        "* c) 'New'"
      ]
    }
  ],
  "metadata": {
    "kernelspec": {
      "display_name": "Python 3",
      "language": "python",
      "name": "python3"
    },
    "language_info": {
      "codemirror_mode": {
        "name": "ipython",
        "version": 3
      },
      "file_extension": ".py",
      "mimetype": "text/x-python",
      "name": "python",
      "nbconvert_exporter": "python",
      "pygments_lexer": "ipython3",
      "version": "3.6.3"
    }
  },
  "nbformat": 4,
  "nbformat_minor": 1
}